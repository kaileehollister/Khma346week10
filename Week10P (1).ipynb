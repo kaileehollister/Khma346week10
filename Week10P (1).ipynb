{
  "nbformat": 4,
  "nbformat_minor": 0,
  "metadata": {
    "colab": {
      "provenance": [],
      "collapsed_sections": []
    },
    "kernelspec": {
      "name": "python3",
      "display_name": "Python 3"
    },
    "language_info": {
      "name": "python"
    }
  },
  "cells": [
    {
      "cell_type": "code",
      "execution_count": null,
      "metadata": {
        "id": "JQ-5HHNqZf0-"
      },
      "outputs": [],
      "source": [
        "import numpy as np\n",
        "import pandas as pd\n",
        "import scipy.stats as stats"
      ]
    },
    {
      "cell_type": "markdown",
      "source": [
        "# Introduction\n",
        "\n",
        "For this week's notebook exercise we'll be training our fundamentals. Note, one of my goals for the class was to ensure that everyone had seen the code for subsetting a dataframe a thousand times within the semester. Though it may seem mundane, operations like subsetting are so essential to data wrangling, underpin so many other complex manipulations, that you can seldom get \"too good\" at them. The tricky part is to keep things interesting."
      ],
      "metadata": {
        "id": "AwhM4AepGLIK"
      }
    },
    {
      "cell_type": "markdown",
      "source": [
        "# Assignment\n",
        "\n",
        "Let's pretend that you work for an automobile regulatory agency. One of the key questions you have is the relationship between city gas mileage and highway gas mileage. Generally, city gas mileage is consistently lower than highway gas mileage, just given the necessity of stopping-and-starting with traffic lights, stop signs, crosswalks, etc. But *across* cars, city mileage should track closely to highway mileage, gas efficiency being an intrinsic part of a car's design.\n",
        "\n",
        "Run the code chunk below to get your dataset (note I've tampered with this otherwise real data set for the sake of this assignment), and answer the following questions:\n",
        "\n",
        "1) Create a new variable called `hwylesscty` that's defined as the highway mileage minus the city mileage for each car. Highway mileage is given by the variable `hwy`, and city mileage is given by the variable `cty` What's the $IQR$ for this variable? (Recall, $IQR$ is the 3rd quartile minus the 1st quartile)\n",
        "\n",
        "2) How many cars are outliers with regard to `hwylesscty`? (We'll define outliers as values that are $1.5^*IQR$ greater than the 3rd quartile, or $1.5^*IQR$ less than the 1st quartile.)\n",
        "\n",
        "3) What's the correlation between highway mileage and city mileage when considering all observations?\n",
        "\n",
        "4) What's the correlation between highway mileage and city mileage when considering only non-outliers?\n",
        "\n",
        "5) Calculate (but don't report) the correlation between highway mileage and city mileage for cars from 1999 and again for cars from 2008. What's the difference in the two correlation statistics?"
      ],
      "metadata": {
        "id": "nyAoEt0iF854"
      }
    },
    {
      "cell_type": "code",
      "source": [
        "#!!!DO NOT TOUCH ANYTHING BELOW HERE!!!#\n",
        "def func_datgen(pernoseq):\n",
        "  np.random.seed(pernoseq)\n",
        "  tempdat = pd.read_csv('https://raw.githubusercontent.com/tidyverse/ggplot2/main/data-raw/mpg.csv')\n",
        "  tempdat = tempdat.loc[np.random.choice(np.arange(0, len(tempdat)), int((len(tempdat)/2)), replace = False)]\n",
        "  targetidx = np.random.choice(np.arange(0, len(tempdat)), np.random.choice(np.arange(10, 15)), replace = False)\n",
        "  tempdat = tempdat.reset_index(drop = True)\n",
        "  tempdat.loc[targetidx, 'hwy'] = tempdat.loc[targetidx, 'hwy'] + np.random.uniform(6, 8, len(targetidx))\n",
        "  tempdat.loc[targetidx, 'cty'] = tempdat.loc[targetidx, 'cty'] + np.random.uniform(-8, -6, len(targetidx))\n",
        "  return tempdat\n",
        "#!!!DO NOT TOUCH ANYTHING ABOVE HERE!!!#"
      ],
      "metadata": {
        "id": "ou7BuP99rTWk"
      },
      "execution_count": null,
      "outputs": []
    },
    {
      "cell_type": "code",
      "source": [
        "cardat = func_datgen(104108)"
      ],
      "metadata": {
        "id": "fzzwzzsqsODS"
      },
      "execution_count": null,
      "outputs": []
    },
    {
      "cell_type": "code",
      "source": [
        "#Q1 \n",
        "\n",
        "hwylesscty = cardat[\"hwylesscty\"] = cardat['hwy'] - cardat['cty']\n",
        "#print(cardat)\n",
        "'''\n",
        "q3 = cardat['hwylesscty'].quantile([0.75])\n",
        "q1 = cardat['hwylesscty'].quantile([0.25])\n",
        "print(q3)\n",
        "print(q1)\n",
        "#9-5 = 4\n",
        "'''\n",
        "\n",
        "q1,q3 = np.percentile(hwylesscty,[25,75])\n",
        "print(q1,q3)\n",
        "iqr = q3-q1\n",
        "print(iqr)"
      ],
      "metadata": {
        "colab": {
          "base_uri": "https://localhost:8080/"
        },
        "id": "sUMN43SXaPhz",
        "outputId": "090c9a92-13b1-480a-9933-9d6f445ec6a4"
      },
      "execution_count": null,
      "outputs": [
        {
          "output_type": "stream",
          "name": "stdout",
          "text": [
            "5.0 9.0\n",
            "4.0\n"
          ]
        }
      ]
    },
    {
      "cell_type": "code",
      "source": [
        "#Q2\n",
        "print(cardat['hwylesscty'].min())\n",
        "print(cardat['hwylesscty'].max())\n",
        "\n",
        "factor = 1.5*iqr\n",
        "lower = q1 - factor\n",
        "higher = q3 + factor\n",
        "#print(lower)\n",
        "#print(higher)\n",
        "\n",
        "y= [i for i in cardat['hwylesscty'] if i< lower]\n",
        "print(len(y))\n",
        "\n",
        "x = [i for i in cardat['hwylesscty'] if i>higher]\n",
        "print(len(x))\n",
        "\n",
        "print(len(x)+len(y))"
      ],
      "metadata": {
        "colab": {
          "base_uri": "https://localhost:8080/"
        },
        "id": "0GFVK68xbTxn",
        "outputId": "4f8f7543-68b0-4057-fad2-5fee8cffddf2"
      },
      "execution_count": null,
      "outputs": [
        {
          "output_type": "stream",
          "name": "stdout",
          "text": [
            "2.0\n",
            "25.024148295300378\n",
            "0\n",
            "13\n",
            "13\n"
          ]
        }
      ]
    },
    {
      "cell_type": "code",
      "source": [
        "#Q3 \n",
        "stats.pearsonr(cardat[\"hwy\"], cardat[\"cty\"])\n",
        "#first number is the correlation"
      ],
      "metadata": {
        "colab": {
          "base_uri": "https://localhost:8080/"
        },
        "id": "Fgr2I6yzdlk4",
        "outputId": "6604b26d-a223-44b1-a923-ef63b1537d2c"
      },
      "execution_count": null,
      "outputs": [
        {
          "output_type": "execute_result",
          "data": {
            "text/plain": [
              "(0.6069401112844439, 4.052375683320221e-13)"
            ]
          },
          "metadata": {},
          "execution_count": 30
        }
      ]
    },
    {
      "cell_type": "code",
      "source": [
        "#Q4\n",
        "new = cardat[cardat['hwylesscty']<higher]\n",
        "#print(new)\n",
        "stats.pearsonr(new[\"hwy\"], new[\"cty\"])\n"
      ],
      "metadata": {
        "colab": {
          "base_uri": "https://localhost:8080/"
        },
        "id": "Z61k3I6YeDEv",
        "outputId": "c035248f-b767-450d-82d6-6b3dd164f6b6"
      },
      "execution_count": null,
      "outputs": [
        {
          "output_type": "execute_result",
          "data": {
            "text/plain": [
              "(0.9471314848524123, 3.64669433774186e-52)"
            ]
          },
          "metadata": {},
          "execution_count": 31
        }
      ]
    },
    {
      "cell_type": "code",
      "source": [
        "#Q5\n",
        "nine =cardat[cardat[\"year\"]==1999]\n",
        "two =cardat[cardat[\"year\"]==2008]\n",
        "#print(nine)\n",
        "print(stats.pearsonr(nine[\"hwy\"], nine[\"cty\"]))\n",
        "print(stats.pearsonr(two[\"hwy\"], two[\"cty\"]))\n",
        "\n",
        "#subtract second by first (1st #s)\n"
      ],
      "metadata": {
        "colab": {
          "base_uri": "https://localhost:8080/"
        },
        "id": "2YUuJef6eIxv",
        "outputId": "8f9fbd7e-303c-49cd-aee5-e802a97fc53b"
      },
      "execution_count": null,
      "outputs": [
        {
          "output_type": "stream",
          "name": "stdout",
          "text": [
            "(0.7075842416462013, 2.598544737531751e-10)\n",
            "(0.5097355591685532, 5.122598157322228e-05)\n"
          ]
        }
      ]
    },
    {
      "cell_type": "code",
      "source": [
        "#The code chunk below demonstrates how to export your answers into a .csv file\n",
        "#Fill in each part with your answers:\n",
        "  #exportobj = pd.DataFrame({'PerNoSeq': ,'Question1': , 'Question2': , 'Question3': , 'Question4': , 'Question5':, 'CollaboratorNames':})\n",
        "      #Note, fill in with '' if no collaborators; if multiple, type names in one '' separated with commas\n",
        "exportobj = pd.DataFrame({'PerNoSeq': [104108],'Question1': [4.0], 'Question2': [13], 'Question3': [0.607], 'Question4': [0.947], 'Question5': [0.198], 'CollaboratorNames': ['Ruby Spadone']})\n",
        "exportobj.to_csv(\"KaileeHollisterWeekW10.csv\")\n",
        "#Then, export your object with the code below\n",
        "  #exportobj.to_csv(\"EddieKimWeekW10.csv\") <- change the name to your own!\n",
        "    #Remember that after exporting, the file will appear in the \"Files\" tab (check the LHS of the screen); from there, download onto your machine, and upload it to Blackboard"
      ],
      "metadata": {
        "id": "6FQYZ_EdwVHn"
      },
      "execution_count": null,
      "outputs": []
    },
    {
      "cell_type": "markdown",
      "source": [
        "Based on the personal number sequence `12345`, the answers to the above questions should be as follows:\n",
        "\n",
        "1: 4.0\n",
        "\n",
        "2: 10\n",
        "\n",
        "3: 0.738\n",
        "\n",
        "4: 0.952\n",
        "\n",
        "5: 0.0717"
      ],
      "metadata": {
        "id": "2MNlw8npwZKX"
      }
    }
  ]
}
